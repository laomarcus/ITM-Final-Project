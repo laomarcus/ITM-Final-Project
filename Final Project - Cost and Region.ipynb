{
 "cells": [
  {
   "cell_type": "code",
   "execution_count": 194,
   "id": "ebe644ca",
   "metadata": {},
   "outputs": [],
   "source": [
    "import requests\n",
    "from bs4 import BeautifulSoup\n",
    "import re\n",
    "import json"
   ]
  },
  {
   "cell_type": "code",
   "execution_count": 9,
   "id": "7467e991",
   "metadata": {},
   "outputs": [],
   "source": [
    "base_url = 'https://ppp.gov.ph/'\n",
    "extensions = 'list-of-projects/'\n",
    "url = f'{base_url}{extensions}'"
   ]
  },
  {
   "cell_type": "code",
   "execution_count": 12,
   "id": "502de312",
   "metadata": {},
   "outputs": [],
   "source": [
    "response = requests.get(url)\n",
    "page_text = response.text\n",
    "soup = BeautifulSoup(page_text)"
   ]
  },
  {
   "cell_type": "code",
   "execution_count": 96,
   "id": "16340b74",
   "metadata": {},
   "outputs": [],
   "source": [
    "selector = 'body > div:nth-child(7) > div.large-9.medium-8.columns.center > div.su-tabs.su-tabs-style-default.my-custom-tabs > div.su-tabs-panes'\n",
    "view_content = soup.select(selector)\n",
    "\n",
    "\n",
    "# Getting links\n",
    "spoiler_links = []\n",
    "\n",
    "for part in view_content:\n",
    "    for s in part.findAll('a'):\n",
    "        try:\n",
    "            link = s['href']\n",
    "        except:\n",
    "            pass\n",
    "        spoiler_links.append(link)"
   ]
  },
  {
   "cell_type": "code",
   "execution_count": 182,
   "id": "d7570715",
   "metadata": {},
   "outputs": [
    {
     "name": "stdout",
     "output_type": "stream",
     "text": [
      "234\n",
      "['https://ppp.gov.ph/ppp_projects/development-operations-and-maintenance-of-general-santos-port/', 'https://ppp.gov.ph/ppp_projects/expansion-operation-and-maintenance-of-vessel-traffic-services-vts-in-seven-philippine-ports/', 'https://ppp.gov.ph/ppp_projects/road-transport-it-infrastructure-project-phase-ii/', 'https://ppp.gov.ph/ppp_projects/50-year-integrated-development-plan-for-mactan-cebu-international-airport-mcia-project/', 'https://ppp.gov.ph/ppp_projects/c5-mrt-10-project/', 'https://ppp.gov.ph/ppp_projects/cavite-tagaytay-batangas-expressway-project/', 'https://ppp.gov.ph/ppp_projects/cagayan-valley-medical-center-hemodialysis-unit/', 'https://ppp.gov.ph/ppp_projects/bghmc-renal-center-building-project/', 'https://ppp.gov.ph/ppp_projects/cebu-monorail-transit-system-project/', 'https://ppp.gov.ph/ppp_projects/davao-sasa-port/', 'https://ppp.gov.ph/ppp_projects/davao-people-mover/', 'https://ppp.gov.ph/ppp_projects/davao-international-airport-development-operation-and-management/', 'https://ppp.gov.ph/ppp_projects/development-former-manila-seedling-site/', 'https://ppp.gov.ph/ppp_projects/development-operation-and-management-of-bacolod-silay-airport/', 'https://ppp.gov.ph/ppp_projects/east-west-rail-project/', 'https://ppp.gov.ph/ppp_projects/fort-bonifacio-makati-skytrain-project/', 'https://ppp.gov.ph/ppp_projects/manila-bay-integrated-flood-control-coastal-defense-and-expressway-project/', 'https://ppp.gov.ph/ppp_projects/metro-manila-subway-project-mmsp-operations-and-maintenance-om-ppp-project/', 'https://ppp.gov.ph/ppp_projects/mrt-11-project/', 'https://ppp.gov.ph/ppp_projects/mrt-7-airport-access-north-line/', 'https://ppp.gov.ph/ppp_projects/mrt-7-katipunan-spur-line/', 'https://ppp.gov.ph/ppp_projects/new-bohol-international-airport-panglao/', 'https://ppp.gov.ph/ppp_projects/north-luzon-express-terminal-nlet-project/', 'https://ppp.gov.ph/ppp_projects/new-metro-manila-food-and-transport-hub/', 'https://ppp.gov.ph/ppp_projects/om-and-facility-upgrade-of-kalibo-international-airport/', 'https://ppp.gov.ph/ppp_projects/iloilo-commercial-port-complex-and-port-of-dumangas-development-project/', 'https://ppp.gov.ph/ppp_projects/operation-maintenance-of-the-francisco-b-reyes-airport-and-the-new-busuanga-airport/', 'https://ppp.gov.ph/ppp_projects/operations-and-maintenance-of-the-north-south-commuter-rail/', 'https://ppp.gov.ph/ppp_projects/preservation-and-development-of-laguna-de-bay-project/', 'https://ppp.gov.ph/ppp_projects/tarlac-pangasinan-la-union-expressway-tplex-extension-project/', 'https://ppp.gov.ph/ppp_projects/unsolicited-proposal-for-the-port-of-general-santos/', 'https://ppp.gov.ph/ppp_projects/lrt-6-cavite-line-a/', 'https://ppp.gov.ph/ppp_projects/upgrade-expansionoperations-and-maintenance-of-laguindingan-airport/', 'https://ppp.gov.ph/ppp_projects/pgh-cancer-center/', 'https://ppp.gov.ph/ppp_projects/pgh-diliman/', 'https://ppp.gov.ph/ppp_projects/bicol-medical-centers-medical-arts-building-and-upgrading-of-health-services/', 'https://ppp.gov.ph/ppp_projects/central-luzon-link-expressway-cllex-phase-1-om-and-phase-2/', 'https://ppp.gov.ph/ppp_projects/improvement-and-operation-maintenance-of-kennon-road-and-marcos-highway-dpwh/', 'https://ppp.gov.ph/ppp_projects/neda-sa-makati-property-redevelopment-project/', 'https://ppp.gov.ph/ppp_projects/mariveles-mental-wellness-center-multi-level-parking-and-dormitory-building/', 'https://ppp.gov.ph/ppp_projects/metro-cebu-expressway/', 'https://ppp.gov.ph/ppp_projects/philippine-travel-center-project/', 'https://ppp.gov.ph/ppp_projects/new-manila-international-airport-project/', 'https://ppp.gov.ph/ppp_projects/redevelopment-of-port-irene/', 'https://ppp.gov.ph/ppp_projects/integrated-transport-system-project-its-southwest-terminal-project-2/', 'https://ppp.gov.ph/ppp_projects/quezon-city-central-post-office-qc-cpo/', 'https://ppp.gov.ph/ppp_projects/cavite-laguna-expressway/', 'https://ppp.gov.ph/ppp_projects/lrt-line-1-south-extension-and-operation-maintenance/', 'https://ppp.gov.ph/ppp_projects/nlex-slex-connector-road/', 'https://ppp.gov.ph/ppp_projects/mrt-line-7/', 'https://ppp.gov.ph/ppp_projects/skyway-stage-3/', 'https://ppp.gov.ph/ppp_projects/new-clark-city-mixed-use-industrial-real-estate-development/', 'https://ppp.gov.ph/ppp_projects/psip-phase-ii-package-a/', 'https://ppp.gov.ph/ppp_projects/psip-ii-package-e/', 'https://ppp.gov.ph/ppp_projects/southeast-metro-manila-expressway-semme-c6-expressway-phase-1/', 'https://ppp.gov.ph/ppp_projects/automatic-fare-collection-system/', 'https://ppp.gov.ph/ppp_projects/acr-i-card-project/', 'https://ppp.gov.ph/ppp_projects/naia-expressway-project-phase-ii/', 'https://ppp.gov.ph/ppp_projects/clark-international-airport-operations-and-maintenance-project/', 'https://ppp.gov.ph/ppp_projects/clark-international-airport-project-engineering-procurement-and-construction/', 'https://ppp.gov.ph/ppp_projects/integrated-transport-system-project-its-southwest-terminal-project-4/', 'https://ppp.gov.ph/ppp_projects/daang-hari-slex-link-road-project/', 'https://ppp.gov.ph/ppp_projects/mactan-cebu-international-airport-passenger-terminal-building/', 'https://ppp.gov.ph/ppp_projects/psip-phase-i-package-a/', 'https://ppp.gov.ph/ppp_projects/ppp-for-school-infrastructure-project-phase-i-psip-i-package-b/', 'https://ppp.gov.ph/ppp_projects/psip-i-package-c/', 'https://ppp.gov.ph/ppp_projects/bulacan-bulk-water-supply-project/', 'https://ppp.gov.ph/ppp_projects/new-clark-city-national-government-administrative-center-ncc-ngac/', 'https://ppp.gov.ph/ppp_projects/civil-registry-system-information-technology-project-phase-ii/', 'https://ppp.gov.ph/ppp_projects/bakun-a-b-and-c-hydroelectric-power-plant/', 'https://ppp.gov.ph/ppp_projects/boracay-water-joint-venture-project/', 'https://ppp.gov.ph/ppp_projects/caliraya-botocan-kalayaan-cbk-power-plant/', 'https://ppp.gov.ph/ppp_projects/casecnan-multi-purpose-irrigation-and-power-project/', 'https://ppp.gov.ph/ppp_projects/caticlan-airport-development-project/', 'https://ppp.gov.ph/ppp_projects/clark-water-supply-and-sewerage-project/', 'https://ppp.gov.ph/ppp_projects/ilijan-natural-gas-combined-cycle-power-plant/', 'https://ppp.gov.ph/ppp_projects/lal-lo-airport-project/', 'https://ppp.gov.ph/ppp_projects/land-titling-computerization-project-ltcp/', 'https://ppp.gov.ph/ppp_projects/light-rail-transit-line-no-3-mrt-3/', 'https://ppp.gov.ph/ppp_projects/manila-north-luzon-tollway-nlex/', 'https://ppp.gov.ph/ppp_projects/manila-cavite-toll-expressway-cavitex/', 'https://ppp.gov.ph/ppp_projects/metro-manila-skyway-stage-1/', 'https://ppp.gov.ph/ppp_projects/metro-manila-skyway-stage-2/', 'https://ppp.gov.ph/ppp_projects/mindanao-coal-fired-thermal-power-plant/', 'https://ppp.gov.ph/ppp_projects/mwss-privatization-project/', 'https://ppp.gov.ph/ppp_projects/mwss-privatization-project-east/', 'https://ppp.gov.ph/ppp_projects/pabahay-sa-riles-project/', 'https://ppp.gov.ph/ppp_projects/pagbilao-coal-fired-power-plant-project/', 'https://ppp.gov.ph/ppp_projects/san-roque-multipurpose-project/', 'https://ppp.gov.ph/ppp_projects/south-luzon-tollway-extension/', 'https://ppp.gov.ph/ppp_projects/southern-tagalog-arterial-road-star-project/', 'https://ppp.gov.ph/ppp_projects/sual-coal-fired-thermal-power-plant-project/', 'https://ppp.gov.ph/ppp_projects/subic-water-and-sewerage-project/', 'https://ppp.gov.ph/ppp_projects/tarlac-pangasinan-la-union-expressway-tplex-project/', 'https://ppp.gov.ph/ppp_projects/nlex-harbor-link-project-segments-8-1-8-2-9-and-10/', 'https://ppp.gov.ph/ppp_projects/bataan-epza-diesel-plant/', 'https://ppp.gov.ph/ppp_projects/bauang-la-union-diesel-power-plant/', 'https://ppp.gov.ph/ppp_projects/benguet-province-mini-hydroelectric-power-plant/', 'https://ppp.gov.ph/ppp_projects/improving-philposts-financial-and-operational-state-through-ict-e-commerce-opportunities-project/', 'https://ppp.gov.ph/ppp_projects/bunker-fired-diesel-generator-power-station-project-pinamucan-batangas-diesel-power-plant/', 'https://ppp.gov.ph/ppp_projects/calaca-batangas-diesel-power-barges/', 'https://ppp.gov.ph/ppp_projects/cavite-epza-diesel-plant-project/', 'https://ppp.gov.ph/ppp_projects/civil-registry-system-information-technology-project-phase-1/', 'https://ppp.gov.ph/ppp_projects/clark-air-base-diesel-plant/', 'https://ppp.gov.ph/ppp_projects/database-infrastructure-and-information-technology-system/', 'https://ppp.gov.ph/ppp_projects/engineering-island-power-barge-project/', 'https://ppp.gov.ph/ppp_projects/general-santos-50-mw-bunker-c-fired-diesel-power-plant/', 'https://ppp.gov.ph/ppp_projects/iligan-2-40mw-bunker-fired-diesel-power-plant/', 'https://ppp.gov.ph/ppp_projects/58mw-iligan-city-diesel-plant-1-project/', 'https://ppp.gov.ph/ppp_projects/leyte-cebu-geothermal-power-plant/', 'https://ppp.gov.ph/ppp_projects/leyte-luzon-malitbog-geothermal-power-plant/', 'https://ppp.gov.ph/ppp_projects/leyte-luzon-geothermal-power-plant-leyte-geothermal-power-optimization/', 'https://ppp.gov.ph/ppp_projects/limay-bataan-combine-cycle-gas-turbine-power-plant-block-a-project/', 'https://ppp.gov.ph/ppp_projects/limay-bataan-combine-cycle-gas-turbine-power-plant-gttp-block-b-project/', 'https://ppp.gov.ph/ppp_projects/makban-binary-geothermal-plant/', 'https://ppp.gov.ph/ppp_projects/malaya-thermal-power-plant-1-2-project/', 'https://ppp.gov.ph/ppp_projects/mindanao-diesel-power-barges-project/', 'https://ppp.gov.ph/ppp_projects/mindanao-i-geothermal-plant/', 'https://ppp.gov.ph/ppp_projects/mindanao-ii-geothermal-plant/', 'https://ppp.gov.ph/ppp_projects/naga-thermal-plant-complex-project/', 'https://ppp.gov.ph/ppp_projects/navotas-diesel-power-barge-1-2/', 'https://ppp.gov.ph/ppp_projects/navotas-gas-turbine-1-3-project/', 'https://ppp.gov.ph/ppp_projects/navotas-gas-turbine-4-project/', 'https://ppp.gov.ph/ppp_projects/north-harbor-diesel-power-barges-project/', 'https://ppp.gov.ph/ppp_projects/subic-zambales-diesel-power-plant-i-project/', 'https://ppp.gov.ph/ppp_projects/subic-zambales-diesel-power-plant-ii-project/', 'https://ppp.gov.ph/ppp_projects/toledo-cebu-coal-thermal-power-project/', 'https://ppp.gov.ph/ppp_projects/zamboanga-100-mw-bunker-c-fired-diesel-power-plant-project/', 'https://ppp.gov.ph/ppp_projects/joint-venture-agreement-for-the-development-and-disposition-of-a-portion-of-the-north-triangle-property-vertis-north/', 'https://ppp.gov.ph/ppp_projects/davao-no-contact-apprehension-project/', 'https://ppp.gov.ph/ppp_projects/tuguegarao-city-septage-management-project/', 'https://ppp.gov.ph/ppp_projects/footbridge-development-project-quezon-city/', 'https://ppp.gov.ph/ppp_projects/zamboanga-city-waste-to-value-facility-project/', 'https://ppp.gov.ph/ppp_projects/general-santos-city-sanitary-landfill-project/', 'https://ppp.gov.ph/ppp_projects/quezon-city-integrated-solid-waste-management-facility-project/', 'https://ppp.gov.ph/ppp_projects/baggao-water-supply-project-2/', 'https://ppp.gov.ph/ppp_projects/balicasag-island-dive-resort/', 'https://ppp.gov.ph/ppp_projects/development-and-management-of-the-club-intramuros-golf-course/', 'https://ppp.gov.ph/ppp_projects/san-pablo-city-water-district-septage-management-program/', 'https://ppp.gov.ph/ppp_projects/san-ramon-newport-project/', 'https://ppp.gov.ph/ppp_projects/bislig-city-bulk-water-supply-and-septage-project/', 'https://ppp.gov.ph/ppp_projects/iloilo-city-central-and-terminal-public-markets/', 'https://ppp.gov.ph/ppp_projects/iloilo-city-triple-a-slaughterhouse-project/', 'https://ppp.gov.ph/ppp_projects/ormoc-city-water-supply-system-project/', 'https://ppp.gov.ph/ppp_projects/rizal-park-western-section-development-project/', 'https://ppp.gov.ph/ppp_projects/tieza-clark-tourism-enterprise-zone-tez-project/', 'https://ppp.gov.ph/ppp_projects/tri-city-ferry-system-project/', 'https://ppp.gov.ph/ppp_projects/up-los-banos-agro-industrial-information-and-technology-parks/', 'https://ppp.gov.ph/ppp_projects/lumbo-bulk-water-supply-project/', 'https://ppp.gov.ph/ppp_projects/quezon-city-no-contact-apprehension-program/', 'https://ppp.gov.ph/ppp_projects/city-of-ilagan-water-district-bulk-water-project/', 'https://ppp.gov.ph/ppp_projects/cauayan-mega-market/', 'https://ppp.gov.ph/ppp_projects/dagupan-waste-to-energy-project/', 'https://ppp.gov.ph/ppp_projects/expansion-of-water-lines-reservoir-and-source-water-project/', 'https://ppp.gov.ph/ppp_projects/joint-venture-agreement-for-the-financing-improvement-rehabilitation-expansion-operation-and-maintenance-of-the-water-supply-and-septage-management-systems-of-surigao-metropolitan-water-district/', 'https://ppp.gov.ph/ppp_projects/joint-venture-agreement-for-the-puerto-princesa-city-waste-to-energy-project/', 'https://ppp.gov.ph/ppp_projects/joint-venture-project-on-water-distribution-jv2/', 'https://ppp.gov.ph/ppp_projects/modernization-of-cebu-carbon-market/', 'https://ppp.gov.ph/ppp_projects/paranaque-city-mixed-used-development-project/', 'https://ppp.gov.ph/ppp_projects/puerto-galera-sewerage-and-wastewater-treatment-plant-project/', 'https://ppp.gov.ph/ppp_projects/tagum-city-waste-to-energy-plant-project/', 'https://ppp.gov.ph/ppp_projects/kalibo-meat-plant/', 'https://ppp.gov.ph/ppp_projects/construction-of-30-units-commercial-stall/', 'https://ppp.gov.ph/ppp_projects/cauayan-city-entertainment-and-cultural-center/', 'https://ppp.gov.ph/ppp_projects/concession-agreement-for-the-cauayan-city-entertainment-and-cultural-center/', 'https://ppp.gov.ph/ppp_projects/cebu-cordova-link-expressway-cclex/', 'https://ppp.gov.ph/ppp_projects/joint-venture-agreement-for-the-provision-of-septage-sewerage-and-sanitation-services-for-the-city-of-puerto-princesa/', 'https://ppp.gov.ph/ppp_projects/joint-venture-project-on-bulk-water-supply-jv1-2/', 'https://ppp.gov.ph/ppp_projects/tanauan-public-market/', 'https://ppp.gov.ph/ppp_projects/bataan-bunker-building-at-the-capitol/', 'https://ppp.gov.ph/ppp_projects/bohol-provincial-electric-system-project/', 'https://ppp.gov.ph/ppp_projects/bohol-provincial-waterworks-system-project/', 'https://ppp.gov.ph/ppp_projects/financing-development-rehabilitation-expansion-operation-and-maintenance-of-the-water-system-of-the-municipality-of-lemery-batangas/', 'https://ppp.gov.ph/ppp_projects/butuan-city-slaughterhouse-project/', 'https://ppp.gov.ph/ppp_projects/butuan-city-water-district-jva-for-water-supply-development-and-water-treatment/', 'https://ppp.gov.ph/ppp_projects/cabanatuan-city-water-district-joint-venture/', 'https://ppp.gov.ph/ppp_projects/dapitan-public-market/', 'https://ppp.gov.ph/ppp_projects/daraga-water-district-joint-venture-project/', 'https://ppp.gov.ph/ppp_projects/establishment-and-operation-of-the-san-simon-waterworks-system/', 'https://ppp.gov.ph/ppp_projects/establishment-and-operation-of-the-san-simon-waterworks-system-2/', 'https://ppp.gov.ph/ppp_projects/iloilo-guimaras-ferry-terminal-complex/', 'https://ppp.gov.ph/ppp_projects/financing-development-rehabilitation-expansion-improvement-operation-and-maintenance-of-the-water-supply-and-septage-management-system-of-jaen-water-district/', 'https://ppp.gov.ph/ppp_projects/hermosa-sanitary-landfill/', 'https://ppp.gov.ph/ppp_projects/joint-venture-project-on-bulk-water-supply-jv1/', 'https://ppp.gov.ph/ppp_projects/legazpi-city-grand-terminal-project/', 'https://ppp.gov.ph/ppp_projects/joint-venture-agreement-for-the-financing-development-rehabilitation-improvement-expansion-operation-and-maintenance-of-the-water-supply-system-and-septage-management-facilities-for-agoncillo-wat/', 'https://ppp.gov.ph/ppp_projects/joint-venture-agreement-for-the-establishment-operation-and-maintenance-of-bataan-manila-integrated-transportation-system-batman-its/', 'https://ppp.gov.ph/ppp_projects/joint-venture-agreement-for-the-financing-development-rehabilitation-expansion-improvement-operation-and-maintenance-of-the-water-supply-and-septage-management-services-of-the-batac-water-distric/', 'https://ppp.gov.ph/ppp_projects/joint-venture-agreement-for-the-financing-development-rehabilitation-improvement-expansion-operation-and-maintenance-of-the-water-supply-system-and-construction-and-management-of-septage-facilit/', 'https://ppp.gov.ph/ppp_projects/joint-venture-agreement-for-the-financing-development-rehabilitation-improvement-operation-and-maintenance-of-the-water-supply-system-and-sanitation-and-septage-management-facilities-of-camiling-w/', 'https://ppp.gov.ph/ppp_projects/joint-venture-agreement-for-the-financing-development-rehabilitation-improvement-expansion-operation-and-maintenance-of-the-water-supply-system-and-septage-facilities-for-floridablanca-water-dist/', 'https://ppp.gov.ph/ppp_projects/joint-venture-agreement-for-the-financing-development-rehabilitation-expansion-improvement-operation-and-maintenance-of-the-water-supply-system-and-septage-system-of-the-gapan-city-water-district/', 'https://ppp.gov.ph/ppp_projects/joint-venture-agreement-for-the-financing-development-rehabilitation-expansion-improvement-operation-and-maintenance-of-the-water-supply-system-of-the-guagua-water-district/', 'https://ppp.gov.ph/ppp_projects/joint-venture-agreement-for-the-financing-development-rehabilitation-expansion-improvement-operation-and-maintenance-of-the-water-system-and-septage-management-services-of-the-ilocos-norte-water/', 'https://ppp.gov.ph/ppp_projects/joint-venture-agreement-for-the-financing-development-rehabilitation-expansion-improvement-operation-and-maintenance-of-the-water-supply-and-septage-system-of-iriga-city-water-district/', 'https://ppp.gov.ph/ppp_projects/joint-venture-agreement-for-the-financing-development-rehabilitation-expansion-improvement-operation-and-maintenance-of-the-water-supply-and-septage-management-systems-of-leyte-metropolitan-wate/', 'https://ppp.gov.ph/ppp_projects/joint-venture-agreement-for-the-financing-development-rehabilitation-expansion-improvement-operation-and-maintenance-of-the-water-supply-and-septage-system-of-the-lubao-water-district/', 'https://ppp.gov.ph/ppp_projects/joint-venture-agreement-for-the-financing-development-rehabilitation-expansion-improvement-operation-and-maintenance-of-the-water-supply-of-the-maasin-water-district/', 'https://ppp.gov.ph/ppp_projects/marulas-public-market/', 'https://ppp.gov.ph/ppp_projects/joint-venture-agreement-for-the-financing-development-rehabilitation-expansion-improvement-operation-and-maintenance-of-the-water-supply-and-septage-management-systems-of-mabalacat-city-water-di/', 'https://ppp.gov.ph/ppp_projects/joint-venture-agreement-for-the-financing-development-rehabilitation-expansion-improvement-operation-and-maintenance-of-the-water-supply-and-septage-management-systems-of-the-marilao-water-distri/', 'https://ppp.gov.ph/ppp_projects/joint-venture-agreement-for-the-financing-development-rehabilitation-expansion-improvement-operation-and-maintenance-of-the-water-supply-and-septage-system-of-the-city-of-malolos-water-district/', 'https://ppp.gov.ph/ppp_projects/joint-venture-agreement-for-the-financing-development-rehabilitation-expansion-improvement-operation-and-maintenance-of-the-water-supply-and-septage-system-of-the-meycauayan-water-district/', 'https://ppp.gov.ph/ppp_projects/joint-venture-agreement-for-the-financing-development-rehabilitation-expansion-improvement-operation-and-maintenance-of-the-water-supply-and-septage-system-for-metro-ozamiz-water-district/', 'https://ppp.gov.ph/ppp_projects/joint-venture-agreement-for-the-financing-development-rehabilitation-expansion-improvement-operation-and-maintenance-of-the-water-supply-system-of-the-orani-water-district/', 'https://ppp.gov.ph/ppp_projects/joint-venture-agreement-for-the-financing-development-rehabilitation-expansion-improvement-operation-and-maintenance-of-the-water-supply-system-and-construction-and-management-of-the-septage-mana/', 'https://ppp.gov.ph/ppp_projects/joint-venture-agreement-for-the-financing-development-rehabilitation-improvement-expansion-operation-and-maintenance-of-water-supply-system-of-san-carlos-city-pangasinan/', 'https://ppp.gov.ph/ppp_projects/joint-venture-agreement-for-the-financing-development-rehabilitation-expansion-improvement-operation-and-maintenance-of-the-water-supply-of-city-of-san-fernando-water-district/', 'https://ppp.gov.ph/ppp_projects/joint-venture-agreement-for-the-financing-development-rehabilitation-upgrading-expansion-operation-and-maintenance-of-potable-water-supply-and-septage-management-systems-of-metro-san-fernando-wat/', 'https://ppp.gov.ph/ppp_projects/joint-venture-agreement-for-the-financing-development-rehabilitation-expansion-improvement-operation-and-maintenance-of-the-water-supply-system-and-septage-management-system-of-the-san-rafael-wat/', 'https://ppp.gov.ph/ppp_projects/joint-venture-agreement-for-the-financing-development-improvement-rehabilitation-expansion-operation-and-maintenance-of-the-water-supply-system-of-silang-water-district/', 'https://ppp.gov.ph/ppp_projects/joint-venture-agreement-for-the-financing-development-rehabilitation-expansion-improvement-operation-and-maintenance-of-the-water-supply-and-septage-management-system-of-sorsogon-city-water-distr/', 'https://ppp.gov.ph/ppp_projects/passi-city-socialized-housing-project/', 'https://ppp.gov.ph/ppp_projects/passi-city-water-supply-and-distribution-system/', 'https://ppp.gov.ph/ppp_projects/joint-venture-agreement-for-the-financing-development-improvement-rehabilitation-expansion-operation-and-maintenance-of-the-water-supply-and-septage-management-systems-of-urdaneta-city-water-dist/', 'https://ppp.gov.ph/ppp_projects/mandaluyong-marketplace/', 'https://ppp.gov.ph/ppp_projects/municipality-of-malay-ecological-solid-waste-management-project/', 'https://ppp.gov.ph/ppp_projects/new-san-fernando-slaughterhouse-project/', 'https://ppp.gov.ph/ppp_projects/rehabilitation-and-operation-of-the-cabanatuan-city-slaughterhouse-project/', 'https://ppp.gov.ph/ppp_projects/lingayen-water-district-joint-venture-agreement-project/', 'https://ppp.gov.ph/ppp_projects/tagum-water-district-bulk-water-supply-project/', 'https://ppp.gov.ph/ppp_projects/water-supply-system-tarlac-city/', 'https://ppp.gov.ph/ppp_projects/valenzuela-city-town-center-project/', 'https://ppp.gov.ph/ppp_projects/zamboanga-city-water-district-non-revenue-water-reduction-project/', 'https://ppp.gov.ph/ppp_projects/redevelopment-of-city-slaughterhouse/', 'https://ppp.gov.ph/ppp_projects/rosales-water-district-jv-project/', 'https://ppp.gov.ph/ppp_projects/water-supply-facility-and-bulk-water-delivery-project/', 'https://ppp.gov.ph/ppp_projects/zamboanga-city-water-district-bulk-water-project/', 'https://ppp.gov.ph/ppp_projects/angeles-city-government-operations-information-management-system-project/', 'https://ppp.gov.ph/ppp_projects/city-of-koronadal-information-and-communication-technology-project/', 'https://ppp.gov.ph/ppp_projects/malabon-digital-infrastructure-project/', 'https://ppp.gov.ph/ppp_projects/pampanga-gis-center-project/', 'https://ppp.gov.ph/ppp_projects/talisay-city-hall-building-project/', 'http://www.dpwh.gov.ph/dpwh/ppp/priority']\n"
     ]
    }
   ],
   "source": [
    "print(len(spoiler_links))\n",
    "print(spoiler_links)"
   ]
  },
  {
   "cell_type": "code",
   "execution_count": 192,
   "id": "247a3eaf",
   "metadata": {},
   "outputs": [
    {
     "name": "stdout",
     "output_type": "stream",
     "text": [
      "Error with handling http://www.dpwh.gov.ph/dpwh/ppp/priority\n"
     ]
    }
   ],
   "source": [
    "data = []\n",
    "\n",
    "for url in spoiler_links:\n",
    "    try:\n",
    "        response = requests.get(url)\n",
    "        page_text = response.text\n",
    "        soup = BeautifulSoup(page_text)\n",
    "\n",
    "        selector = 'body > div:nth-child(7) > div.large-9.medium-8.columns.center'\n",
    "        view_content = soup.select(selector)[0]\n",
    "\n",
    "        subdata = {}\n",
    "\n",
    "        # Get the title\n",
    "        title_selector = 'div.title-block > h2'\n",
    "        title_element = view_content.select(title_selector)\n",
    "        try:\n",
    "            title = title_element[0].text\n",
    "            title = ' '.join(title.split())\n",
    "        except:\n",
    "            title = None\n",
    "            pass\n",
    "        subdata['title'] = title\n",
    "\n",
    "        # Get other data\n",
    "        data_selector = 'div.su-accordion > div > div > div.su-spoiler-content.su-clearfix'\n",
    "        view_data = view_content.select(data_selector)[0]\n",
    "\n",
    "        # Get cost\n",
    "        para_selector = 'p'\n",
    "        para_element = view_data.select(para_selector)\n",
    "\n",
    "        for p in para_element:\n",
    "            if 'php' in p.text.lower():\n",
    "                cost = p.text\n",
    "                cost =  ' '.join(cost.split())\n",
    "\n",
    "        subdata['cost'] = cost\n",
    "\n",
    "        # Get Region\n",
    "        region = []\n",
    "        li_selector = 'li'\n",
    "        li_element = view_data.select(li_selector)\n",
    "        for l in li_element:\n",
    "            if 'REGION' in str(l) or 'CARAGAN' in str(l):\n",
    "                region.append(l.text)\n",
    "        subdata['region'] = region\n",
    "\n",
    "        data.append(subdata)\n",
    "    except:\n",
    "        print(f'Error with handling {url}')\n",
    "        continue"
   ]
  },
  {
   "cell_type": "code",
   "execution_count": 196,
   "id": "32c49808",
   "metadata": {},
   "outputs": [],
   "source": [
    "with open('Final-Proj_Region-Cost.json','w') as j:\n",
    "    json.dump(data, j, indent = 4)"
   ]
  },
  {
   "cell_type": "code",
   "execution_count": 184,
   "id": "1850e251",
   "metadata": {},
   "outputs": [
    {
     "name": "stdout",
     "output_type": "stream",
     "text": [
      "{'title': 'Expansion, Operation and Maintenance of Vessel Traffic Services (VTS) in Seven Philippine Ports', 'cost': 'Php 1.448 Billion', 'region': ['REGION IV-A - CALABARZON', 'REGION IV-B - MIMAROPA', 'REGION VI - WESTERN VISAYAS', 'REGION X - NORTHERN MINDANAO', 'REGION XI - DAVAO', 'REGION XII - SOCCSKSARGEN', 'NATIONAL CAPITAL REGION']}\n"
     ]
    }
   ],
   "source": [
    "# Webscrape 1 Site\n",
    "# THIS IS NOT THE ACTUAL CODE THAT I RAN (just for me to trial if it works since it takes long to run all sites)\n",
    "response = requests.get(spoiler_links[1])\n",
    "page_text = response.text\n",
    "soup = BeautifulSoup(page_text)\n",
    "\n",
    "selector = 'body > div:nth-child(7) > div.large-9.medium-8.columns.center'\n",
    "view_content = soup.select(selector)[0]\n",
    "\n",
    "subdata = {}\n",
    "\n",
    "# Get the title\n",
    "title_selector = 'div.title-block > h2'\n",
    "title_element = view_content.select(title_selector)\n",
    "try:\n",
    "    title = title_element[0].text\n",
    "    title = ' '.join(title.split())\n",
    "except:\n",
    "    title = None\n",
    "    pass\n",
    "subdata['title'] = title\n",
    "\n",
    "# Get other data\n",
    "data_selector = 'div.su-accordion > div > div > div.su-spoiler-content.su-clearfix'\n",
    "view_data = view_content.select(data_selector)[0]\n",
    "\n",
    "# Get cost\n",
    "para_selector = 'p'\n",
    "para_element = view_data.select(para_selector)\n",
    "\n",
    "for p in para_element:\n",
    "    if 'php' in p.text.lower():\n",
    "        cost = p.text\n",
    "        cost =  ' '.join(cost.split())\n",
    "\n",
    "subdata['cost'] = cost\n",
    "\n",
    "# Get Region\n",
    "region = []\n",
    "li_selector = 'li'\n",
    "li_element = view_data.select(li_selector)\n",
    "for l in li_element:\n",
    "    if 'REGION' in str(l) or 'CARAGAN' in str(l):\n",
    "        region.append(l.text)\n",
    "subdata['region'] = region\n",
    "\n",
    "print(subdata)"
   ]
  }
 ],
 "metadata": {
  "kernelspec": {
   "display_name": "Python 3",
   "language": "python",
   "name": "python3"
  },
  "language_info": {
   "codemirror_mode": {
    "name": "ipython",
    "version": 3
   },
   "file_extension": ".py",
   "mimetype": "text/x-python",
   "name": "python",
   "nbconvert_exporter": "python",
   "pygments_lexer": "ipython3",
   "version": "3.8.8"
  }
 },
 "nbformat": 4,
 "nbformat_minor": 5
}
